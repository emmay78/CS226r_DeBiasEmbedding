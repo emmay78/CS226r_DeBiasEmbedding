{
 "cells": [
  {
   "cell_type": "code",
   "execution_count": 338,
   "metadata": {},
   "outputs": [],
   "source": [
    "import numpy as np\n",
    "import pandas as pd\n",
    "import matplotlib.pyplot as plt\n",
    "import seaborn as sns\n",
    "from gensim.models import Word2Vec, KeyedVectors\n",
    "import gensim.downloader\n",
    "import nltk\n",
    "from tqdm import tqdm"
   ]
  },
  {
   "cell_type": "markdown",
   "metadata": {},
   "source": [
    "# Gender Stereotypes in Word2Vec + Google News"
   ]
  },
  {
   "cell_type": "markdown",
   "metadata": {},
   "source": [
    "We consider the word2vec word embedding, trained on text from Google News (3 million vectors), and show examples of gender stereotypes in this embedding.\n",
    "\n",
    "The pre-trained word embedding is sourced from the `gensim` library."
   ]
  },
  {
   "cell_type": "code",
   "execution_count": 339,
   "metadata": {},
   "outputs": [],
   "source": [
    "newsvectors = gensim.downloader.load(\"word2vec-google-news-300\")"
   ]
  },
  {
   "cell_type": "markdown",
   "metadata": {},
   "source": [
    "The titular example given in the paper \"Man is to Computer Programmer as Woman is to Homemaker? Debiasing Word Embeddings\" is shown below, where homemaker has the second-highest cosine similarity score to the analogy-generating vector."
   ]
  },
  {
   "cell_type": "code",
   "execution_count": 340,
   "metadata": {},
   "outputs": [
    {
     "data": {
      "text/plain": [
       "[('computer_programmer', 0.9105811715126038),\n",
       " ('homemaker', 0.5771315693855286),\n",
       " ('schoolteacher', 0.5500192642211914),\n",
       " ('graphic_designer', 0.5464698672294617),\n",
       " ('mechanical_engineer', 0.5398366451263428),\n",
       " ('electrical_engineer', 0.5337055325508118),\n",
       " ('housewife', 0.5274525284767151),\n",
       " ('programmer', 0.5096209645271301),\n",
       " ('businesswoman', 0.5029540061950684),\n",
       " ('keypunch_operator', 0.4974639415740967)]"
      ]
     },
     "execution_count": 340,
     "metadata": {},
     "output_type": "execute_result"
    }
   ],
   "source": [
    "vec = newsvectors[\"computer_programmer\"] - newsvectors[\"man\"] + newsvectors[\"woman\"]\n",
    "newsvectors.most_similar([vec])"
   ]
  },
  {
   "cell_type": "markdown",
   "metadata": {},
   "source": [
    "Some additional occupational stereotypes in this embedding include:"
   ]
  },
  {
   "cell_type": "code",
   "execution_count": 354,
   "metadata": {},
   "outputs": [
    {
     "data": {
      "text/plain": [
       "[('surgeon', 0.9068439602851868),\n",
       " ('surgeons', 0.7327114939689636),\n",
       " ('gynecologist', 0.7052876949310303),\n",
       " ('neurosurgeon', 0.7045034170150757),\n",
       " ('plastic_surgeon', 0.6821295022964478),\n",
       " ('doctor', 0.6631763577461243),\n",
       " ('Surgeon', 0.6527994871139526),\n",
       " ('orthopedic_surgeon', 0.6460433602333069),\n",
       " ('obstetrician', 0.6362589001655579),\n",
       " ('cosmetic_surgeon', 0.6331883668899536)]"
      ]
     },
     "execution_count": 354,
     "metadata": {},
     "output_type": "execute_result"
    }
   ],
   "source": [
    "# man : surgeon :: woman : gynecologist\n",
    "newsvectors.most_similar([newsvectors[\"surgeon\"] - newsvectors[\"man\"] + newsvectors[\"woman\"]])"
   ]
  },
  {
   "cell_type": "code",
   "execution_count": 369,
   "metadata": {},
   "outputs": [
    {
     "data": {
      "text/plain": [
       "[('doctor', 0.883492112159729),\n",
       " ('gynecologist', 0.7276508212089539),\n",
       " ('nurse', 0.6698513031005859),\n",
       " ('physician', 0.6674119830131531),\n",
       " ('doctors', 0.6649492979049683),\n",
       " ('pediatrician', 0.6398378610610962),\n",
       " ('nurse_practitioner', 0.6237460374832153),\n",
       " ('obstetrician', 0.6188927292823792),\n",
       " ('midwife', 0.6041982769966125),\n",
       " ('dentist', 0.5999661087989807)]"
      ]
     },
     "execution_count": 369,
     "metadata": {},
     "output_type": "execute_result"
    }
   ],
   "source": [
    "# man : doctor :: woman : nurse\n",
    "newsvectors.most_similar([newsvectors[\"doctor\"] - newsvectors[\"man\"] + newsvectors[\"woman\"]])"
   ]
  },
  {
   "cell_type": "code",
   "execution_count": 370,
   "metadata": {},
   "outputs": [
    {
     "data": {
      "text/plain": [
       "[('dancer', 0.9194429516792297),\n",
       " ('dancers', 0.7295071482658386),\n",
       " ('ballet_dancer', 0.6663364768028259),\n",
       " ('ballerina', 0.6646263599395752),\n",
       " ('belly_dancer', 0.6396307349205017),\n",
       " ('ballroom_dancer', 0.6307015419006348),\n",
       " ('choreographer', 0.6269819736480713),\n",
       " ('dance', 0.6261250376701355),\n",
       " ('prima_ballerina', 0.6027011871337891),\n",
       " ('dancer_choreographer', 0.5955023169517517)]"
      ]
     },
     "execution_count": 370,
     "metadata": {},
     "output_type": "execute_result"
    }
   ],
   "source": [
    "# man : dancer :: woman : ballerina\n",
    "newsvectors.most_similar([newsvectors[\"dancer\"] - newsvectors[\"man\"] + newsvectors[\"woman\"]])"
   ]
  },
  {
   "cell_type": "markdown",
   "metadata": {},
   "source": [
    "I also identified a category of stereotype not discussed by the paper, adjectival stereotypes. For example,"
   ]
  },
  {
   "cell_type": "code",
   "execution_count": 371,
   "metadata": {},
   "outputs": [
    {
     "data": {
      "text/plain": [
       "[('assertive', 0.8830008506774902),\n",
       " ('assertiveness', 0.5662153363227844),\n",
       " ('forceful', 0.5302254557609558),\n",
       " ('submissive', 0.5260580778121948),\n",
       " ('assertively', 0.510796844959259),\n",
       " ('aggressive', 0.5042941570281982),\n",
       " ('bossy', 0.48802030086517334),\n",
       " ('feminine', 0.4793698489665985),\n",
       " ('demure', 0.47477802634239197),\n",
       " ('moderates_Olympia_Snowe', 0.47340264916419983)]"
      ]
     },
     "execution_count": 371,
     "metadata": {},
     "output_type": "execute_result"
    }
   ],
   "source": [
    "# man : assertive :: woman : submissive/bossy\n",
    "newsvectors.most_similar([newsvectors[\"assertive\"] - newsvectors[\"man\"] + newsvectors[\"woman\"]])"
   ]
  },
  {
   "cell_type": "code",
   "execution_count": 378,
   "metadata": {},
   "outputs": [
    {
     "data": {
      "text/plain": [
       "[('boastful', 0.8716204166412354),\n",
       " ('bragger', 0.504817545413971),\n",
       " ('conceited', 0.48360005021095276),\n",
       " ('braggart', 0.48033538460731506),\n",
       " ('brash', 0.4767358601093292),\n",
       " ('cocky', 0.47266072034835815),\n",
       " ('condescending', 0.469278484582901),\n",
       " ('bragging', 0.4673372209072113),\n",
       " ('flirtatious', 0.46674203872680664),\n",
       " ('self_aggrandizing', 0.4595392346382141)]"
      ]
     },
     "execution_count": 378,
     "metadata": {},
     "output_type": "execute_result"
    }
   ],
   "source": [
    "# man : boastful :: woman : flirtatious\n",
    "newsvectors.most_similar([newsvectors[\"boastful\"] - newsvectors[\"man\"] + newsvectors[\"woman\"]])"
   ]
  },
  {
   "cell_type": "code",
   "execution_count": 395,
   "metadata": {},
   "outputs": [
    {
     "data": {
      "text/plain": [
       "[('disciplined', 0.865975558757782),\n",
       " ('discipline', 0.5209245085716248),\n",
       " ('aggressive', 0.470907598733902),\n",
       " ('diligent', 0.46397918462753296),\n",
       " ('Disciplined', 0.46364110708236694),\n",
       " ('Robbins_Gioia_combines', 0.45295968651771545),\n",
       " ('shoved_Kandji', 0.4449872076511383),\n",
       " ('Sian_Massey_suitability', 0.4368198812007904),\n",
       " ('punished', 0.43217015266418457),\n",
       " ('conscientious', 0.427097886800766)]"
      ]
     },
     "execution_count": 395,
     "metadata": {},
     "output_type": "execute_result"
    }
   ],
   "source": [
    "# man : disciplined :: woman : aggressive\n",
    "newsvectors.most_similar([newsvectors[\"disciplined\"] - newsvectors[\"man\"] + newsvectors[\"woman\"]])"
   ]
  },
  {
   "cell_type": "markdown",
   "metadata": {},
   "source": [
    "All of these examples above demonstrate that gender stereotypes exist in this word embedding."
   ]
  },
  {
   "cell_type": "markdown",
   "metadata": {},
   "source": [
    "## Defining the Gender Subspace"
   ]
  },
  {
   "cell_type": "markdown",
   "metadata": {},
   "source": [
    "Taking inspiration from \"Man is to Computer Programmer as Woman is to Homemaker? Debiasing Word Embeddings,\" we use ten pairs of gendered words and compute the Principal Component Analysis (PCA) for the differences between their word embeddings to construct a gender subspace."
   ]
  },
  {
   "cell_type": "code",
   "execution_count": 341,
   "metadata": {},
   "outputs": [],
   "source": [
    "gender_pairs = [(\"she\", \"he\"),\n",
    "                (\"her\", \"his\"),\n",
    "                (\"woman\", \"man\"),\n",
    "                (\"Mary\", \"John\"),\n",
    "                (\"herself\", \"himself\"),\n",
    "                (\"daughter\", \"son\"),\n",
    "                (\"mother\", \"father\"),\n",
    "                (\"gal\", \"guy\"),\n",
    "                (\"girl\", \"boy\"),\n",
    "                (\"female\", \"male\")]\n",
    "\n",
    "gender_diffs = [newsvectors[a] - newsvectors[b] for a, b in gender_pairs]"
   ]
  },
  {
   "cell_type": "code",
   "execution_count": 342,
   "metadata": {},
   "outputs": [
    {
     "data": {
      "text/html": [
       "<style>#sk-container-id-2 {color: black;background-color: white;}#sk-container-id-2 pre{padding: 0;}#sk-container-id-2 div.sk-toggleable {background-color: white;}#sk-container-id-2 label.sk-toggleable__label {cursor: pointer;display: block;width: 100%;margin-bottom: 0;padding: 0.3em;box-sizing: border-box;text-align: center;}#sk-container-id-2 label.sk-toggleable__label-arrow:before {content: \"▸\";float: left;margin-right: 0.25em;color: #696969;}#sk-container-id-2 label.sk-toggleable__label-arrow:hover:before {color: black;}#sk-container-id-2 div.sk-estimator:hover label.sk-toggleable__label-arrow:before {color: black;}#sk-container-id-2 div.sk-toggleable__content {max-height: 0;max-width: 0;overflow: hidden;text-align: left;background-color: #f0f8ff;}#sk-container-id-2 div.sk-toggleable__content pre {margin: 0.2em;color: black;border-radius: 0.25em;background-color: #f0f8ff;}#sk-container-id-2 input.sk-toggleable__control:checked~div.sk-toggleable__content {max-height: 200px;max-width: 100%;overflow: auto;}#sk-container-id-2 input.sk-toggleable__control:checked~label.sk-toggleable__label-arrow:before {content: \"▾\";}#sk-container-id-2 div.sk-estimator input.sk-toggleable__control:checked~label.sk-toggleable__label {background-color: #d4ebff;}#sk-container-id-2 div.sk-label input.sk-toggleable__control:checked~label.sk-toggleable__label {background-color: #d4ebff;}#sk-container-id-2 input.sk-hidden--visually {border: 0;clip: rect(1px 1px 1px 1px);clip: rect(1px, 1px, 1px, 1px);height: 1px;margin: -1px;overflow: hidden;padding: 0;position: absolute;width: 1px;}#sk-container-id-2 div.sk-estimator {font-family: monospace;background-color: #f0f8ff;border: 1px dotted black;border-radius: 0.25em;box-sizing: border-box;margin-bottom: 0.5em;}#sk-container-id-2 div.sk-estimator:hover {background-color: #d4ebff;}#sk-container-id-2 div.sk-parallel-item::after {content: \"\";width: 100%;border-bottom: 1px solid gray;flex-grow: 1;}#sk-container-id-2 div.sk-label:hover label.sk-toggleable__label {background-color: #d4ebff;}#sk-container-id-2 div.sk-serial::before {content: \"\";position: absolute;border-left: 1px solid gray;box-sizing: border-box;top: 0;bottom: 0;left: 50%;z-index: 0;}#sk-container-id-2 div.sk-serial {display: flex;flex-direction: column;align-items: center;background-color: white;padding-right: 0.2em;padding-left: 0.2em;position: relative;}#sk-container-id-2 div.sk-item {position: relative;z-index: 1;}#sk-container-id-2 div.sk-parallel {display: flex;align-items: stretch;justify-content: center;background-color: white;position: relative;}#sk-container-id-2 div.sk-item::before, #sk-container-id-2 div.sk-parallel-item::before {content: \"\";position: absolute;border-left: 1px solid gray;box-sizing: border-box;top: 0;bottom: 0;left: 50%;z-index: -1;}#sk-container-id-2 div.sk-parallel-item {display: flex;flex-direction: column;z-index: 1;position: relative;background-color: white;}#sk-container-id-2 div.sk-parallel-item:first-child::after {align-self: flex-end;width: 50%;}#sk-container-id-2 div.sk-parallel-item:last-child::after {align-self: flex-start;width: 50%;}#sk-container-id-2 div.sk-parallel-item:only-child::after {width: 0;}#sk-container-id-2 div.sk-dashed-wrapped {border: 1px dashed gray;margin: 0 0.4em 0.5em 0.4em;box-sizing: border-box;padding-bottom: 0.4em;background-color: white;}#sk-container-id-2 div.sk-label label {font-family: monospace;font-weight: bold;display: inline-block;line-height: 1.2em;}#sk-container-id-2 div.sk-label-container {text-align: center;}#sk-container-id-2 div.sk-container {/* jupyter's `normalize.less` sets `[hidden] { display: none; }` but bootstrap.min.css set `[hidden] { display: none !important; }` so we also need the `!important` here to be able to override the default hidden behavior on the sphinx rendered scikit-learn.org. See: https://github.com/scikit-learn/scikit-learn/issues/21755 */display: inline-block !important;position: relative;}#sk-container-id-2 div.sk-text-repr-fallback {display: none;}</style><div id=\"sk-container-id-2\" class=\"sk-top-container\"><div class=\"sk-text-repr-fallback\"><pre>PCA(n_components=10)</pre><b>In a Jupyter environment, please rerun this cell to show the HTML representation or trust the notebook. <br />On GitHub, the HTML representation is unable to render, please try loading this page with nbviewer.org.</b></div><div class=\"sk-container\" hidden><div class=\"sk-item\"><div class=\"sk-estimator sk-toggleable\"><input class=\"sk-toggleable__control sk-hidden--visually\" id=\"sk-estimator-id-2\" type=\"checkbox\" checked><label for=\"sk-estimator-id-2\" class=\"sk-toggleable__label sk-toggleable__label-arrow\">PCA</label><div class=\"sk-toggleable__content\"><pre>PCA(n_components=10)</pre></div></div></div></div></div>"
      ],
      "text/plain": [
       "PCA(n_components=10)"
      ]
     },
     "execution_count": 342,
     "metadata": {},
     "output_type": "execute_result"
    }
   ],
   "source": [
    "from sklearn.decomposition import PCA\n",
    "pca = PCA(n_components=10)\n",
    "pca.fit(gender_diffs)"
   ]
  },
  {
   "cell_type": "markdown",
   "metadata": {},
   "source": [
    "The explained variance of the first component is quite high at around 60%. Thus, we are satisfied with using a single vector, defined as the \"gender direction,\" to form the basis of the gender subspace for the embedding."
   ]
  },
  {
   "cell_type": "code",
   "execution_count": 343,
   "metadata": {},
   "outputs": [
    {
     "data": {
      "text/plain": [
       "Text(0.5, 1.0, 'Explained Variance of Gender PCA')"
      ]
     },
     "execution_count": 343,
     "metadata": {},
     "output_type": "execute_result"
    },
    {
     "data": {
      "image/png": "[encoded data removed]",
      "text/plain": [
       "<Figure size 640x480 with 1 Axes>"
      ]
     },
     "metadata": {},
     "output_type": "display_data"
    }
   ],
   "source": [
    "sns.barplot(y=pca.explained_variance_,x=list(range(1, len(pca.singular_values_) + 1)), color=\"steelblue\")\n",
    "plt.title(\"Explained Variance of Gender PCA\")"
   ]
  },
  {
   "cell_type": "code",
   "execution_count": 344,
   "metadata": {},
   "outputs": [],
   "source": [
    "gender_vec = pca.components_[0]/np.linalg.norm(pca.components_[0])"
   ]
  },
  {
   "cell_type": "markdown",
   "metadata": {},
   "source": [
    "## Direct Bias"
   ]
  },
  {
   "cell_type": "markdown",
   "metadata": {},
   "source": [
    "Using the gender direction defined above, we can compute the DirectBias metric as referenced in the paper to define a quantitative metric for the existence of gender stereotypes in the embedding. The DirectBias metric measures the mean cosine similarity between a collection of gender neutral words and the gender vector.\n",
    "\n",
    "The paper uses a set of 327 occupations as the set of gender-neutral words, since their investigation focuses its examination of gender stereotypes on occupational stereotypes.\n",
    "\n",
    "Given that I also identified a set of adjectival stereotypes (e.g. man : assertive :: woman : submissive/bossy, man : boastful :: woman : flirtatious, man : disciplined :: woman : aggressive), I chose to define the collection of gender-neutral words as a combination of gender neutral occupations (`occupations.txt`) and adjectives (`adjectives.txt`).\n",
    "\n",
    "I created a dataset of 57 occupations and 77 adjectives. After filtering for those which did not exist in the word embedding, the final collection of gender-neutral words consists of 122 words."
   ]
  },
  {
   "cell_type": "code",
   "execution_count": 396,
   "metadata": {},
   "outputs": [],
   "source": [
    "def txt_to_array(filepath):\n",
    "    with open(filepath, 'r') as file:\n",
    "        # Read lines and strip newline characters, then return the list\n",
    "        return [line.strip() for line in file.readlines()]\n",
    "    \n",
    "def cossim(x, y):\n",
    "    return np.dot(x, y)/(np.linalg.norm(x) * np.linalg.norm(y))"
   ]
  },
  {
   "cell_type": "code",
   "execution_count": 346,
   "metadata": {},
   "outputs": [],
   "source": [
    "occupations = txt_to_array(\"occupations.txt\")\n",
    "adjectives = txt_to_array(\"adjectives.txt\")\n",
    "\n",
    "gender_neutral = occupations + adjectives"
   ]
  },
  {
   "cell_type": "code",
   "execution_count": 347,
   "metadata": {},
   "outputs": [],
   "source": [
    "gender_neutral_tokens = []\n",
    "for w in gender_neutral:\n",
    "    try:\n",
    "        gender_neutral_tokens.append(newsvectors[w])\n",
    "    except:\n",
    "        continue"
   ]
  },
  {
   "cell_type": "code",
   "execution_count": 348,
   "metadata": {},
   "outputs": [],
   "source": [
    "c = 1\n",
    "gender_neutral_sim = np.array([np.abs(cossim(w, gender_vec))**c for w in gender_neutral_tokens])\n",
    "direct_bias = np.sum(gender_neutral_sim)/len(gender_neutral_tokens)"
   ]
  },
  {
   "cell_type": "markdown",
   "metadata": {},
   "source": [
    "Using the gender direction, the DirectBias metric for this collection of words is ~0.0586, confirming that many gender-neutural occupations and adjectives have a non-trivial component along the gender direction."
   ]
  },
  {
   "cell_type": "code",
   "execution_count": 349,
   "metadata": {},
   "outputs": [
    {
     "data": {
      "text/plain": [
       "0.05864023119542275"
      ]
     },
     "execution_count": 349,
     "metadata": {},
     "output_type": "execute_result"
    }
   ],
   "source": [
    "direct_bias"
   ]
  },
  {
   "cell_type": "markdown",
   "metadata": {},
   "source": [
    "## Hard De-Biasing"
   ]
  },
  {
   "cell_type": "markdown",
   "metadata": {},
   "source": [
    "I used the hard debiasing algorithm (Neutralize) proposed in the paper and applied it to the collection of gender-neutral words. Each word was re-embedded such that\n",
    "$$\n",
    "\\vec{w} := (\\vec{w} - \\vec{w}_B)/\\|\\vec{w} - \\vec{w}_B\\|\n",
    "$$\n",
    "where $\\vec{w}_B$ is the projection of the word $\\vec{w}$ onto the gender subspace."
   ]
  },
  {
   "cell_type": "code",
   "execution_count": 350,
   "metadata": {},
   "outputs": [],
   "source": [
    "def neutralize(word, g):\n",
    "    proj_g = np.dot(word, g) * g\n",
    "    diff = word - proj_g\n",
    "    denom = np.linalg.norm(diff)\n",
    "    return diff/denom"
   ]
  },
  {
   "cell_type": "code",
   "execution_count": 351,
   "metadata": {},
   "outputs": [],
   "source": [
    "neutralized_tokens = [neutralize(w, gender_vec) for w in gender_neutral_tokens]"
   ]
  },
  {
   "cell_type": "code",
   "execution_count": 352,
   "metadata": {},
   "outputs": [],
   "source": [
    "gender_neutral_sim_neut = np.array([np.abs(cossim(w, gender_vec))**c for w in neutralized_tokens])\n",
    "direct_bias_neut = np.sum(gender_neutral_sim_neut)/len(gender_neutral_tokens)"
   ]
  },
  {
   "cell_type": "markdown",
   "metadata": {},
   "source": [
    "After neutralizing these words, the DirectBias score is substantially decreased and very close to 0."
   ]
  },
  {
   "cell_type": "code",
   "execution_count": 353,
   "metadata": {},
   "outputs": [
    {
     "name": "stdout",
     "output_type": "stream",
     "text": [
      "1.4158613944294313e-17\n"
     ]
    }
   ],
   "source": [
    "print(direct_bias_neut)"
   ]
  }
 ],
 "metadata": {
  "kernelspec": {
   "display_name": "py22",
   "language": "python",
   "name": "python3"
  },
  "language_info": {
   "codemirror_mode": {
    "name": "ipython",
    "version": 3
   },
   "file_extension": ".py",
   "mimetype": "text/x-python",
   "name": "python",
   "nbconvert_exporter": "python",
   "pygments_lexer": "ipython3",
   "version": "3.10.8"
  }
 },
 "nbformat": 4,
 "nbformat_minor": 2
}
